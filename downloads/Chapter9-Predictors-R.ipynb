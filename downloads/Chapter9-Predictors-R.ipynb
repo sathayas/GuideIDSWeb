{
 "cells": [
  {
   "cell_type": "markdown",
   "metadata": {},
   "source": [
    "<H1 style=\"text-align:center;\">\n",
    "Predictors\n",
    "</H1>\n",
    "<hr style=\"height:5px;\">"
   ]
  },
  {
   "cell_type": "markdown",
   "metadata": {},
   "source": [
    "## Nearest Neighbor Classifiers\n",
    "<hr style=\"height:2px;\">\n",
    "\n",
    "A nearest-neighbor classifier based on the Euclidean distance is implemented in the\n",
    "package `class` in R. To show how to use the nearest-neighbor classifier in R, we\n",
    "use splitting of the Iris data set into a training set `iris.training` and test set\n",
    "`iris.test` as it was demonstrated in Sect. 5.6.2. The function `knn` requires a\n",
    "training and a set with only numerical attributes and a vector containing the classifications\n",
    "for the training set. The parameter *`k`* determines how many nearest neighbors\n",
    "are considered for the classification decision."
   ]
  },
  {
   "cell_type": "code",
   "execution_count": 3,
   "metadata": {},
   "outputs": [],
   "source": [
    "# generating indices for shuffling\n",
    "n <- length(iris$Species)\n",
    "permut <- sample(c(1:n),n,replace=F)\n",
    "\n",
    "# shuffling the observations\n",
    "ord <- order(permut)\n",
    "iris.shuffled <- iris[ord,]\n",
    "\n",
    "# splitting into training and testing data\n",
    "prop.train <- 2/3  # training data consists of 2/3 of observations\n",
    "k <- round(prop.train*n)\n",
    "iris.training <- iris.shuffled[1:k,]\n",
    "iris.test <- iris.shuffled[(k+1):n,]"
   ]
  },
  {
   "cell_type": "code",
   "execution_count": 4,
   "metadata": {},
   "outputs": [
    {
     "data": {
      "text/plain": [
       "            \n",
       "iris.knn     setosa versicolor virginica\n",
       "  setosa         18          0         0\n",
       "  versicolor      0         18         0\n",
       "  virginica       0          1        13"
      ]
     },
     "metadata": {},
     "output_type": "display_data"
    }
   ],
   "source": [
    "library(class)\n",
    "iris.knn <- knn(iris.training[,1:4],iris.test[,1:4],iris.training[,5],k=3)\n",
    "table(iris.knn,iris.test[,5])"
   ]
  },
  {
   "cell_type": "markdown",
   "metadata": {},
   "source": [
    "The last line prints the confusion matrix."
   ]
  },
  {
   "cell_type": "markdown",
   "metadata": {},
   "source": [
    "## Neural Networks\n",
    "<hr style=\"height:2px;\">\n",
    "\n",
    "For the example of multilayer perceptrons in R, we use the same training and test\n",
    "data as for the nearest-neighbor classifier above. The multilayer perceptron can only\n",
    "process numerical values. Therefore, we first have to transform the categorical attribute\n",
    "*`Species`* into a numerical attribute:"
   ]
  },
  {
   "cell_type": "code",
   "execution_count": 5,
   "metadata": {},
   "outputs": [],
   "source": [
    "x <- iris.training\n",
    "x$Species <- as.numeric(x$Species)"
   ]
  },
  {
   "cell_type": "markdown",
   "metadata": {},
   "source": [
    "The multilayer perceptron is constructed and trained in the following way, where\n",
    "the library `neuralnet` needs to be installed first:"
   ]
  },
  {
   "cell_type": "code",
   "execution_count": 6,
   "metadata": {},
   "outputs": [],
   "source": [
    "library(neuralnet)\n",
    "iris.nn <- neuralnet(Species + Sepal.Length ~\n",
    "                     Sepal.Width + Petal.Length + Petal.Width, x,\n",
    "                     hidden=c(3))"
   ]
  },
  {
   "cell_type": "markdown",
   "metadata": {},
   "source": [
    "The first argument of `neuralnet` defines that the attributes *`Species`* and `sepal\n",
    "length` correspond to the output neurons. The other three attributes correspond to\n",
    "the input neurons. `x` specifies the training data set. The parameter `hidden` defines\n",
    "how many hidden layers the multilayer perceptron should have and how many neurons\n",
    "in each hidden layer should be. In the above example, there is only one hidden\n",
    "layer with three neurons. When we replace `c(3)` by `c(4,2)`, there would be two\n",
    "hidden layers, one with four and one with two neurons.\n",
    "\n",
    "The training of the multilayer perceptron can take some time, especially for larger\n",
    "data sets.\n",
    "\n",
    "When the training is finished, the multilayer perceptron can be visualized:"
   ]
  },
  {
   "cell_type": "code",
   "execution_count": 7,
   "metadata": {},
   "outputs": [],
   "source": [
    "plot(iris.nn)"
   ]
  },
  {
   "cell_type": "markdown",
   "metadata": {},
   "source": [
    "The visualization includes also dummy neurons as shown in Fig. 9.4.\n",
    "\n",
    "The output of the multilayer perceptron for the test set can be calculated in the\n",
    "following way. Note that we first have to remove the output attributes from the test\n",
    "set:"
   ]
  },
  {
   "cell_type": "code",
   "execution_count": 8,
   "metadata": {},
   "outputs": [],
   "source": [
    "y <- iris.test\n",
    "y <- y[-5]\n",
    "y <- y[-1]\n",
    "y.out <- compute(iris.nn,y)"
   ]
  },
  {
   "cell_type": "markdown",
   "metadata": {},
   "source": [
    "We can then compare the target outputs for the training set with the outputs from\n",
    "the multilayer perceptron. If we want to compute the squared errors for the second\n",
    "output neuron -— the *`sepal length`* —- we can do this in the following way:"
   ]
  },
  {
   "cell_type": "code",
   "execution_count": 9,
   "metadata": {},
   "outputs": [],
   "source": [
    "y.sqerr <- (y[1] - y.out$net.result[,2])^2"
   ]
  },
  {
   "cell_type": "markdown",
   "metadata": {},
   "source": [
    "## Support Vector Machines\n",
    "<hr style=\"height:2px;\">\n",
    "\n",
    "For support vector machine, we use the same training and test data as already for the\n",
    "nearest-neighbor classifier and for the neural networks. A support vector machine to\n",
    "predict the *`species`* in the Iris data set based on the other attributes can be constructed\n",
    "in the following way. The package `e1071` is needed and should be installed first if\n",
    "it has not been installed before:"
   ]
  },
  {
   "cell_type": "code",
   "execution_count": 10,
   "metadata": {},
   "outputs": [
    {
     "data": {
      "text/plain": [
       "            \n",
       "             setosa versicolor virginica\n",
       "  setosa         18          0         0\n",
       "  versicolor      0         19         1\n",
       "  virginica       0          0        12"
      ]
     },
     "metadata": {},
     "output_type": "display_data"
    }
   ],
   "source": [
    "library(e1071)\n",
    "iris.svm <- svm(Species ~ ., data = iris.training)\n",
    "table(predict(iris.svm,iris.test[1:4]),iris.test[,5])"
   ]
  },
  {
   "cell_type": "markdown",
   "metadata": {},
   "source": [
    "The last line prints the confusion matrix for the test data set.\n",
    "\n",
    "The function `svm` works also for support vector regression. We could, for instance,\n",
    "use"
   ]
  },
  {
   "cell_type": "code",
   "execution_count": 11,
   "metadata": {},
   "outputs": [],
   "source": [
    "iris.svm <- svm(Petal.Width ~ ., data = iris.training)\n",
    "sqerr <- (predict(iris.svm,iris.test[-4])-iris.test[4])^2"
   ]
  },
  {
   "cell_type": "markdown",
   "metadata": {},
   "source": [
    "to predict the numerical attribute `petal width` based on the other attributes and to\n",
    "compute the squared errors for the test set."
   ]
  },
  {
   "cell_type": "markdown",
   "metadata": {},
   "source": [
    "## Ensemble Methods\n",
    "<hr style=\"height:2px;\">\n",
    "\n",
    "As an example for ensemble methods, we consider random forest with the training\n",
    "and test data of the Iris data set as before. The package `randomForest` needs to\n",
    "be installed first:"
   ]
  },
  {
   "cell_type": "code",
   "execution_count": 12,
   "metadata": {},
   "outputs": [
    {
     "data": {
      "text/plain": [
       "            \n",
       "             setosa versicolor virginica\n",
       "  setosa         18          0         0\n",
       "  versicolor      0         19         1\n",
       "  virginica       0          0        12"
      ]
     },
     "metadata": {},
     "output_type": "display_data"
    }
   ],
   "source": [
    "library(randomForest)\n",
    "iris.rf <- randomForest(Species ~., iris.training)\n",
    "table(predict(iris.rf,iris.test[1:4]),iris.test[,5])"
   ]
  },
  {
   "cell_type": "markdown",
   "metadata": {},
   "source": [
    "In this way, a random forest is constructed to predict the *`species`* in the Iris data set\n",
    "based on the other attributes. The last line of the code prints the confusion matrix\n",
    "for the test data set."
   ]
  }
 ],
 "metadata": {
  "kernelspec": {
   "display_name": "R",
   "language": "R",
   "name": "ir"
  },
  "language_info": {
   "codemirror_mode": "r",
   "file_extension": ".r",
   "mimetype": "text/x-r-source",
   "name": "R",
   "pygments_lexer": "r",
   "version": "4.0.1"
  }
 },
 "nbformat": 4,
 "nbformat_minor": 4
}
