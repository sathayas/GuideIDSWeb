{
 "cells": [
  {
   "cell_type": "markdown",
   "metadata": {},
   "source": [
    "<H1 style=\"text-align:center;\">\n",
    "Finding Explanations\n",
    "</H1>\n",
    "<hr style=\"height:5px;\">"
   ]
  },
  {
   "cell_type": "markdown",
   "metadata": {},
   "source": [
    "## Decision tree\n",
    "<hr style=\"height:2px;\">\n",
    "\n",
    "R also allows for much finer control of the decision tree construction. The script\n",
    "below demonstrates how to create a simple tree for the Iris data set using a training\n",
    "set of 100 records. Then the tree is displayed, and a confusion matrix for the test\n",
    "set—the remaining 50 records of the Iris data set—is printed. The libraries `rpart`,\n",
    "which comes along with the standard installation of R, and `rattle`, that needs to\n",
    "be installed, are required:"
   ]
  },
  {
   "cell_type": "code",
   "execution_count": 1,
   "metadata": {},
   "outputs": [],
   "source": [
    "library(rpart)\n",
    "iris.train <- c(sample(1:150,50))\n",
    "iris.dtree <- rpart(Species~.,data=iris,subset=iris.train)"
   ]
  },
  {
   "cell_type": "code",
   "execution_count": 2,
   "metadata": {},
   "outputs": [
    {
     "name": "stderr",
     "output_type": "stream",
     "text": [
      "Loading required package: tibble\n",
      "\n",
      "Loading required package: bitops\n",
      "\n",
      "Rattle: A free graphical interface for data science with R.\n",
      "Version 5.4.0 Copyright (c) 2006-2020 Togaware Pty Ltd.\n",
      "Type 'rattle()' to shake, rattle, and roll your data.\n",
      "\n"
     ]
    },
    {
     "data": {
      "text/plain": [
       "            \n",
       "             setosa versicolor virginica\n",
       "  setosa         35          0         0\n",
       "  versicolor      0         27         1\n",
       "  virginica       0          6        31"
      ]
     },
     "metadata": {},
     "output_type": "display_data"
    },
    {
     "data": {
      "image/png": "[encoded data removed]",
      "text/plain": [
       "plot without title"
      ]
     },
     "metadata": {
      "image/png": {
       "height": 420,
       "width": 420
      },
      "text/plain": {
       "height": 420,
       "width": 420
      }
     },
     "output_type": "display_data"
    }
   ],
   "source": [
    "library(rattle)\n",
    "drawTreeNodes(iris.dtree)\n",
    "table(predict(iris.dtree,iris[-iris.train,],type=\"class\"),\n",
    "      iris[-iris.train,\"Species\"])"
   ]
  },
  {
   "cell_type": "markdown",
   "metadata": {},
   "source": [
    "In addition to many options related to tree construction, R also offers many ways\n",
    "to beautify the graphical representation. We refer to R manuals for more details."
   ]
  },
  {
   "cell_type": "markdown",
   "metadata": {},
   "source": [
    "## Naive Bayes Classifiers\n",
    "<hr style=\"height:2px;\">\n",
    "\n",
    "Naive Bayes classifiers use normal distributions by default for numerical attributes.\n",
    "The package `e1071` must be installed first:"
   ]
  },
  {
   "cell_type": "code",
   "execution_count": 3,
   "metadata": {},
   "outputs": [
    {
     "data": {
      "text/plain": [
       "            \n",
       "             setosa versicolor virginica\n",
       "  setosa         28          0         0\n",
       "  versicolor      0         22         1\n",
       "  virginica       0          2        22"
      ]
     },
     "metadata": {},
     "output_type": "display_data"
    }
   ],
   "source": [
    "library(e1071)\n",
    "iris.train <- c(sample(1:150,75))\n",
    "iris.nbayes <- naiveBayes(Species~.,data=iris,subset=iris.train)\n",
    "table(predict(iris.nbayes,iris[-iris.train,],type=\"class\"),\n",
    "      iris[-iris.train,\"Species\"])"
   ]
  },
  {
   "cell_type": "markdown",
   "metadata": {},
   "source": [
    "As in the example of the decision tree, the Iris data set is split into a training and\n",
    "a test data set, and the confusion matrix is printed. The parameters for the normal\n",
    "distributions of the classes can be obtained in the following way:"
   ]
  },
  {
   "cell_type": "code",
   "execution_count": 4,
   "metadata": {},
   "outputs": [
    {
     "name": "stdout",
     "output_type": "stream",
     "text": [
      "\n",
      "Naive Bayes Classifier for Discrete Predictors\n",
      "\n",
      "Call:\n",
      "naiveBayes.default(x = X, y = Y, laplace = laplace)\n",
      "\n",
      "A-priori probabilities:\n",
      "Y\n",
      "    setosa versicolor  virginica \n",
      " 0.2933333  0.3466667  0.3600000 \n",
      "\n",
      "Conditional probabilities:\n",
      "            Sepal.Length\n",
      "Y                [,1]      [,2]\n",
      "  setosa     4.972727 0.3781935\n",
      "  versicolor 6.034615 0.5059188\n",
      "  virginica  6.555556 0.5401804\n",
      "\n",
      "            Sepal.Width\n",
      "Y                [,1]      [,2]\n",
      "  setosa     3.422727 0.4264268\n",
      "  versicolor 2.807692 0.2682135\n",
      "  virginica  2.937037 0.3236191\n",
      "\n",
      "            Petal.Length\n",
      "Y                [,1]      [,2]\n",
      "  setosa     1.413636 0.1457181\n",
      "  versicolor 4.315385 0.4333057\n",
      "  virginica  5.514815 0.4888792\n",
      "\n",
      "            Petal.Width\n",
      "Y                 [,1]       [,2]\n",
      "  setosa     0.2409091 0.09081164\n",
      "  versicolor 1.3307692 0.18279875\n",
      "  virginica  2.0185185 0.30386869\n",
      "\n"
     ]
    }
   ],
   "source": [
    "print(iris.nbayes)"
   ]
  },
  {
   "cell_type": "markdown",
   "metadata": {},
   "source": [
    "If Laplace correction should be applied for categorical attribute, this can be\n",
    "achieved by setting the parameter `laplace` to the desired value when calling the\n",
    "function `naiveBayes`."
   ]
  },
  {
   "cell_type": "markdown",
   "metadata": {},
   "source": [
    "## Regression\n",
    "<hr style=\"height:2px;\">\n",
    "\n",
    "Least squares linear regression is implemented by the function `lm` (linear model).\n",
    "As an example, we construct a linear regression function to predict the petal width\n",
    "of the Iris data set based on the other numerical attributes:"
   ]
  },
  {
   "cell_type": "code",
   "execution_count": 5,
   "metadata": {},
   "outputs": [
    {
     "data": {
      "text/plain": [
       "\n",
       "Call:\n",
       "lm(formula = iris$Petal.Width ~ iris$Sepal.Length + iris$Sepal.Width + \n",
       "    iris$Petal.Length)\n",
       "\n",
       "Residuals:\n",
       "     Min       1Q   Median       3Q      Max \n",
       "-0.60959 -0.10134 -0.01089  0.09825  0.60685 \n",
       "\n",
       "Coefficients:\n",
       "                  Estimate Std. Error t value Pr(>|t|)    \n",
       "(Intercept)       -0.24031    0.17837  -1.347     0.18    \n",
       "iris$Sepal.Length -0.20727    0.04751  -4.363 2.41e-05 ***\n",
       "iris$Sepal.Width   0.22283    0.04894   4.553 1.10e-05 ***\n",
       "iris$Petal.Length  0.52408    0.02449  21.399  < 2e-16 ***\n",
       "---\n",
       "Signif. codes:  0 ‘***’ 0.001 ‘**’ 0.01 ‘*’ 0.05 ‘.’ 0.1 ‘ ’ 1\n",
       "\n",
       "Residual standard error: 0.192 on 146 degrees of freedom\n",
       "Multiple R-squared:  0.9379,\tAdjusted R-squared:  0.9366 \n",
       "F-statistic: 734.4 on 3 and 146 DF,  p-value: < 2.2e-16\n"
      ]
     },
     "metadata": {},
     "output_type": "display_data"
    }
   ],
   "source": [
    "iris.lm <- lm(iris$Petal.Width ~ iris$Sepal.Length\n",
    "              + iris$Sepal.Width + iris$Petal.Length)\n",
    "summary(iris.lm)"
   ]
  },
  {
   "cell_type": "markdown",
   "metadata": {},
   "source": [
    "The `summary` provides the necessary information about the regression result, including\n",
    "the coefficient of the regression function.\n",
    "\n",
    "If we want to use a polynomial as the regression function, we need to protect the\n",
    "evaluation of the corresponding power by the function `I` inhibiting interpretation.\n",
    "As an example, we compute a regression function to predict the petal width based\n",
    "on a quadratic function in the petal length:"
   ]
  },
  {
   "cell_type": "code",
   "execution_count": 6,
   "metadata": {},
   "outputs": [
    {
     "data": {
      "text/plain": [
       "\n",
       "Call:\n",
       "lm(formula = iris$Petal.Width ~ iris$Petal.Length + I(iris$Petal.Length^2))\n",
       "\n",
       "Residuals:\n",
       "     Min       1Q   Median       3Q      Max \n",
       "-0.56213 -0.12392 -0.01555  0.13547  0.64105 \n",
       "\n",
       "Coefficients:\n",
       "                        Estimate Std. Error t value Pr(>|t|)    \n",
       "(Intercept)            -0.386781   0.079883  -4.842 3.22e-06 ***\n",
       "iris$Petal.Length       0.433833   0.053652   8.086 2.10e-13 ***\n",
       "I(iris$Petal.Length^2) -0.002569   0.007501  -0.342    0.732    \n",
       "---\n",
       "Signif. codes:  0 ‘***’ 0.001 ‘**’ 0.01 ‘*’ 0.05 ‘.’ 0.1 ‘ ’ 1\n",
       "\n",
       "Residual standard error: 0.2071 on 147 degrees of freedom\n",
       "Multiple R-squared:  0.9272,\tAdjusted R-squared:  0.9262 \n",
       "F-statistic: 935.7 on 2 and 147 DF,  p-value: < 2.2e-16\n"
      ]
     },
     "metadata": {},
     "output_type": "display_data"
    }
   ],
   "source": [
    "iris.lm <- lm(iris$Petal.Width ~ iris$Petal.Length +\n",
    "              I(iris$Petal.Length^2))\n",
    "summary(iris.lm)"
   ]
  },
  {
   "cell_type": "markdown",
   "metadata": {},
   "source": [
    "Robust regression requires the library `MASS`, which needs installation. Otherwise\n",
    "it is handled in the same way as least squares regression, using the function `rlm`\n",
    "instead of `lm`:"
   ]
  },
  {
   "cell_type": "code",
   "execution_count": 7,
   "metadata": {},
   "outputs": [
    {
     "data": {
      "text/plain": [
       "\n",
       "Call: rlm(formula = iris$Petal.Width ~ iris$Sepal.Length + iris$Sepal.Width + \n",
       "    iris$Petal.Length)\n",
       "Residuals:\n",
       "      Min        1Q    Median        3Q       Max \n",
       "-0.606532 -0.099003 -0.009158  0.101636  0.609940 \n",
       "\n",
       "Coefficients:\n",
       "                  Value   Std. Error t value\n",
       "(Intercept)       -0.2375  0.1771    -1.3412\n",
       "iris$Sepal.Length -0.2062  0.0472    -4.3713\n",
       "iris$Sepal.Width   0.2201  0.0486     4.5297\n",
       "iris$Petal.Length  0.5231  0.0243    21.5126\n",
       "\n",
       "Residual standard error: 0.1492 on 146 degrees of freedom"
      ]
     },
     "metadata": {},
     "output_type": "display_data"
    }
   ],
   "source": [
    "library(MASS)\n",
    "iris.rlm <- rlm(iris$Petal.Width ~ iris$Sepal.Length\n",
    "                + iris$Sepal.Width + iris$Petal.Length)\n",
    "summary(iris.rlm)"
   ]
  },
  {
   "cell_type": "markdown",
   "metadata": {},
   "source": [
    "The default method is based on Huber’s error function. If Tukey’s biweight should\n",
    "be used, the parameter `method` should be changed in the following way:"
   ]
  },
  {
   "cell_type": "code",
   "execution_count": 8,
   "metadata": {},
   "outputs": [
    {
     "data": {
      "text/plain": [
       "\n",
       "Call: rlm(formula = iris$Petal.Width ~ iris$Sepal.Length + iris$Sepal.Width + \n",
       "    iris$Petal.Length, method = \"MM\")\n",
       "Residuals:\n",
       "     Min       1Q   Median       3Q      Max \n",
       "-0.60608 -0.09975 -0.01030  0.10375  0.61963 \n",
       "\n",
       "Coefficients:\n",
       "                  Value   Std. Error t value\n",
       "(Intercept)       -0.1896  0.1718    -1.1036\n",
       "iris$Sepal.Length -0.2152  0.0457    -4.7036\n",
       "iris$Sepal.Width   0.2181  0.0471     4.6276\n",
       "iris$Petal.Length  0.5252  0.0236    22.2689\n",
       "\n",
       "Residual standard error: 0.1672 on 146 degrees of freedom"
      ]
     },
     "metadata": {},
     "output_type": "display_data"
    }
   ],
   "source": [
    "# ridge regression with Tukey's biweight\n",
    "iris.rlm <- rlm(iris$Petal.Width ~ iris$Sepal.Length\n",
    "                + iris$Sepal.Width + iris$Petal.Length,\n",
    "                method=\"MM\")\n",
    "summary(iris.rlm)"
   ]
  },
  {
   "cell_type": "markdown",
   "metadata": {},
   "source": [
    "A plot of the computed weights can be obtained by the following command:"
   ]
  },
  {
   "cell_type": "code",
   "execution_count": 9,
   "metadata": {},
   "outputs": [
    {
     "data": {
      "image/png": "[encoded data removed]",
      "text/plain": [
       "plot without title"
      ]
     },
     "metadata": {
      "image/png": {
       "height": 420,
       "width": 420
      },
      "text/plain": {
       "height": 420,
       "width": 420
      }
     },
     "output_type": "display_data"
    }
   ],
   "source": [
    "plot(iris.rlm$w)"
   ]
  }
 ],
 "metadata": {
  "kernelspec": {
   "display_name": "R",
   "language": "R",
   "name": "ir"
  },
  "language_info": {
   "codemirror_mode": "r",
   "file_extension": ".r",
   "mimetype": "text/x-r-source",
   "name": "R",
   "pygments_lexer": "r",
   "version": "4.0.1"
  }
 },
 "nbformat": 4,
 "nbformat_minor": 4
}
