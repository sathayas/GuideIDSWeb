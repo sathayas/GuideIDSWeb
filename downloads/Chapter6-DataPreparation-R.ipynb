{
 "cells": [
  {
   "cell_type": "markdown",
   "metadata": {},
   "source": [
    "<H1 style=\"text-align:center;\">\n",
    "Data Preparation\n",
    "</H1>\n",
    "<hr style=\"height:5px;\">"
   ]
  },
  {
   "cell_type": "markdown",
   "metadata": {},
   "source": [
    "## Missing values\n",
    "<hr style=\"height:2px;\">\n",
    "\n",
    "The logical constant `NA` (not available) is used to represent missing values in R.\n",
    "There are various methods in R that can handle missing values directly.\n",
    "\n",
    "As a very simple example, we consider the mean value.We create a data set with\n",
    "one attribute with four missing values and try to compute the mean:"
   ]
  },
  {
   "cell_type": "code",
   "execution_count": 1,
   "metadata": {},
   "outputs": [
    {
     "data": {
      "text/html": [
       "&lt;NA&gt;"
      ],
      "text/latex": [
       "<NA>"
      ],
      "text/markdown": [
       "&lt;NA&gt;"
      ],
      "text/plain": [
       "[1] NA"
      ]
     },
     "metadata": {},
     "output_type": "display_data"
    }
   ],
   "source": [
    "x <- c(3,2,NA,4,NA,1,NA,NA,5)\n",
    "mean(x)"
   ]
  },
  {
   "cell_type": "markdown",
   "metadata": {},
   "source": [
    "The mean value is in this case also a missing value, since R has no information\n",
    "about the missing values and how to handle them. But if we explicitly say that\n",
    "missing values should simply be ignored for the computation of the mean value\n",
    "(`na.rm=T`), then R returns the mean value of all nonmissing values:"
   ]
  },
  {
   "cell_type": "code",
   "execution_count": 2,
   "metadata": {},
   "outputs": [
    {
     "data": {
      "text/html": [
       "3"
      ],
      "text/latex": [
       "3"
      ],
      "text/markdown": [
       "3"
      ],
      "text/plain": [
       "[1] 3"
      ]
     },
     "metadata": {},
     "output_type": "display_data"
    }
   ],
   "source": [
    "mean(x,na.rm=T)"
   ]
  },
  {
   "cell_type": "markdown",
   "metadata": {},
   "source": [
    "Note that this computation of the mean value implicitly assumes that the values are\n",
    "missing completely at random (MCAR)."
   ]
  },
  {
   "cell_type": "markdown",
   "metadata": {},
   "source": [
    "## Normalization\n",
    "<hr style=\"height:2px;\">\n",
    "\n",
    "Normalization and standardization of numeric attributes can be achieved in the following\n",
    "way. The function `is.factor` returns true if the corresponding attribute is\n",
    "categorical (or ordinal), so that we can ensure with this function that normalization\n",
    "is only applied to all numerical attributes, but not to the categorical ones. With the\n",
    "following R-code, z-score standardization is applied to all numerical attributes:"
   ]
  },
  {
   "cell_type": "code",
   "execution_count": 3,
   "metadata": {},
   "outputs": [],
   "source": [
    "iris.norm <- iris\n",
    "\n",
    "# for loop over each coloumn\n",
    "for (i in c(1:length(iris.norm))){\n",
    "    if (!is.factor(iris.norm[,i])){\n",
    "        attr.mean <- mean(iris.norm[,i])\n",
    "        attr.sd <- sd(iris.norm[,i])\n",
    "        iris.norm[,i] <- (iris.norm[,i]-attr.mean)/attr.sd\n",
    "    }\n",
    "}"
   ]
  },
  {
   "cell_type": "markdown",
   "metadata": {},
   "source": [
    "Other normalization and standardization techniques can carried out in a similar\n",
    "manner. Of course, instead of the functions `mean` (for the mean value) and `sd` (for\n",
    "the standard deviation), other functions like `min` (for the minimum), `max` (for the\n",
    "maximum), `median` (for the median), or `IQR` (for the interquartile range) have to\n",
    "be used."
   ]
  }
 ],
 "metadata": {
  "kernelspec": {
   "display_name": "R",
   "language": "R",
   "name": "ir"
  },
  "language_info": {
   "codemirror_mode": "r",
   "file_extension": ".r",
   "mimetype": "text/x-r-source",
   "name": "R",
   "pygments_lexer": "r",
   "version": "4.0.1"
  }
 },
 "nbformat": 4,
 "nbformat_minor": 4
}
